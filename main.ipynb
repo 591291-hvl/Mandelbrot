{
 "cells": [
  {
   "cell_type": "code",
   "execution_count": 1,
   "metadata": {},
   "outputs": [],
   "source": [
    "import numpy as np\n",
    "import matplotlib.pyplot as plt\n",
    "import PIL.Image as Image\n",
    "from math import log\n",
    "from PIL import ImageEnhance\n",
    "import cv2\n",
    "import matplotlib.cm\n",
    "from PIL.ImageColor import getrgb\n",
    "from scipy.interpolate import interp1d\n",
    "np.warnings.filterwarnings(\"ignore\")"
   ]
  },
  {
   "cell_type": "code",
   "execution_count": 2,
   "metadata": {},
   "outputs": [],
   "source": [
    "class MandelbrotSet:\n",
    "    max_iterations: int\n",
    "    escape_radius: float = 2.0\n",
    "\n",
    "    def __init__(self, max_iterations, escape_radius):\n",
    "        self.max_iterations = max_iterations \n",
    "        self.escape_radius = escape_radius\n",
    "\n",
    "    def __contains__(self, c: complex) -> bool:\n",
    "        return self.stability(c) == 1\n",
    "    \n",
    "    def stability(self, c: complex, smooth=False, clamp=True) -> float:\n",
    "        value = self.escape_count(c, smooth) / self.max_iterations\n",
    "        return max(0.0, min(value, 1.0)) if clamp else value\n",
    "    \n",
    "    def escape_count(self, c: complex, smooth=False) -> float:\n",
    "        z = 0\n",
    "        for iteration in range(self.max_iterations):\n",
    "            z = z ** 2 + c\n",
    "            if abs(z) > self.escape_radius:\n",
    "                if smooth:\n",
    "                    return iteration + 1 - log(log(abs(z))) / log(2)\n",
    "                return iteration\n",
    "        return self.max_iterations\n"
   ]
  },
  {
   "cell_type": "code",
   "execution_count": 3,
   "metadata": {},
   "outputs": [],
   "source": [
    "from viewport import Viewport"
   ]
  },
  {
   "cell_type": "code",
   "execution_count": 4,
   "metadata": {},
   "outputs": [],
   "source": [
    "def hsb(hue_degrees: int, saturation: float, brightness: float):\n",
    "    return getrgb(\n",
    "        f\"hsv({hue_degrees % 360},\"\n",
    "        f\"{saturation * 100}%,\"\n",
    "        f\"{brightness * 100}%)\"\n",
    "    )"
   ]
  },
  {
   "cell_type": "code",
   "execution_count": 5,
   "metadata": {},
   "outputs": [],
   "source": [
    "def paint(mandelbrot_set, viewport, palette, smooth):\n",
    "    for pixel in viewport:\n",
    "        stability = mandelbrot_set.stability(complex(pixel), smooth)\n",
    "        pixel.color = (0, 0, 0) if stability == 1 else hsb(\n",
    "            hue_degrees=int(stability * 360*1),\n",
    "            saturation=stability,\n",
    "            brightness=1,\n",
    "        )"
   ]
  },
  {
   "cell_type": "code",
   "execution_count": 25,
   "metadata": {},
   "outputs": [],
   "source": [
    "mapping = [(66, 30, 15),\n",
    " (25, 7, 26),\n",
    " (9, 1, 47),\n",
    " (4, 4, 73),\n",
    " (0, 7, 100),\n",
    " (12, 44, 138),\n",
    " (24, 82, 177),\n",
    " (57, 125, 209),\n",
    " (134, 181, 229),\n",
    " (211, 236, 248),\n",
    " (241, 233, 191),\n",
    " (248, 201, 95),\n",
    " (255, 170, 0),\n",
    " (204, 128, 0),\n",
    " (153, 87, 0),\n",
    " (106, 52, 3)]"
   ]
  },
  {
   "cell_type": "code",
   "execution_count": 8,
   "metadata": {},
   "outputs": [],
   "source": [
    "def newPaint(mandelbrot_set, viewport, mapping, smooth, iterations):\n",
    "    for pixel in viewport:\n",
    "        stability = mandelbrot_set.stability(complex(pixel), smooth)\n",
    "        layer = stability*iterations\n",
    "        pixel.color = (0, 0, 0) if stability == 1 else mapping[int(layer % 16)]\n",
    "        "
   ]
  },
  {
   "cell_type": "code",
   "execution_count": 9,
   "metadata": {},
   "outputs": [],
   "source": [
    "def denormalize(palette):\n",
    "    return [\n",
    "        tuple(int(channel * 255) for channel in color)\n",
    "        for color in palette\n",
    "    ]"
   ]
  },
  {
   "cell_type": "code",
   "execution_count": 10,
   "metadata": {},
   "outputs": [],
   "source": [
    "def make_gradient(colors, interpolation=\"linear\"):\n",
    "    X = [i / (len(colors) - 1) for i in range(len(colors))]\n",
    "    Y = [[color[i] for color in colors] for i in range(3)]\n",
    "    channels = [interp1d(X, y, kind=interpolation) for y in Y]\n",
    "    return lambda x: [np.clip(channel(x), 0, 1) for channel in channels]"
   ]
  },
  {
   "cell_type": "code",
   "execution_count": 11,
   "metadata": {},
   "outputs": [],
   "source": [
    "black = (0, 0, 0)\n",
    "blue = (0, 0, 1)\n",
    "maroon = (0.5, 0, 0)\n",
    "navy = (0, 0, 0.5)\n",
    "red = (1, 0, 0)\n",
    "\n",
    "colors = [black, navy, blue, maroon, red, black]\n",
    "gradient = make_gradient(colors, interpolation=\"cubic\")"
   ]
  },
  {
   "cell_type": "code",
   "execution_count": 12,
   "metadata": {},
   "outputs": [],
   "source": [
    "max_iterations = 1000\n",
    "mandelbrot_set = MandelbrotSet(max_iterations=int(max_iterations), escape_radius=1000)\n",
    "unitRange = [3 * (1 - 1/(2**3))**x for x in range(250)]\n",
    "imageList = []\n",
    "width, height = 512, 512\n",
    "center = -0.77679088889099 + 0.135781j\n",
    "# center = -0.7756837680090538 + 0.13646736829469008j\n",
    "# center=-0.7435 + 0.1314j\n",
    "\n",
    "\n",
    "\n",
    "num_colors = 256\n",
    "palette = denormalize([\n",
    "    gradient(i / num_colors) for i in range(num_colors)\n",
    "])\n",
    "\n",
    "for unit in unitRange:\n",
    "    image = Image.new(mode=\"RGB\", size=(width, height))\n",
    "    viewport = Viewport(image, center=center, width=unit)\n",
    "    # paint(mandelbrot_set, viewport, palette, smooth=True)\n",
    "    newPaint(mandelbrot_set, viewport, mapping, True, max_iterations)\n",
    "    imageList.append(image)\n",
    "\n",
    "# imageList[-1].show()"
   ]
  },
  {
   "cell_type": "code",
   "execution_count": 13,
   "metadata": {},
   "outputs": [
    {
     "data": {
      "text/plain": [
       "[1.0892472126816586e-14]"
      ]
     },
     "execution_count": 13,
     "metadata": {},
     "output_type": "execute_result"
    }
   ],
   "source": [
    "unitRange[-1:]"
   ]
  },
  {
   "cell_type": "code",
   "execution_count": 14,
   "metadata": {},
   "outputs": [],
   "source": [
    "imageList[0].save(\"images/Mandelbrot.png\")"
   ]
  },
  {
   "cell_type": "code",
   "execution_count": 15,
   "metadata": {},
   "outputs": [],
   "source": [
    "video = cv2.VideoWriter(\"images/Mandelbrot.mp4\",-1,10,(width,height))\n",
    "\n",
    "try:\n",
    "    for i in range(len(imageList)):\n",
    "        video.write(cv2.cvtColor(np.array(imageList[i]), cv2.COLOR_RGB2BGR))\n",
    "finally: \n",
    "    video.release()"
   ]
  },
  {
   "cell_type": "code",
   "execution_count": 16,
   "metadata": {},
   "outputs": [],
   "source": [
    "#Save as gif\n",
    "frame_one = imageList[0]\n",
    "frame_one.save(\"images/example.gif\", format=\"GIF\", append_images=imageList[1:],\n",
    "               save_all=True, duration=1, loop=0)"
   ]
  },
  {
   "cell_type": "code",
   "execution_count": 17,
   "metadata": {},
   "outputs": [
    {
     "data": {
      "text/plain": [
       "[2.0,\n",
       " 1.75,\n",
       " 1.53125,\n",
       " 1.33984375,\n",
       " 1.17236328125,\n",
       " 1.02581787109375,\n",
       " 0.8975906372070312,\n",
       " 0.7853918075561523,\n",
       " 0.6872178316116333,\n",
       " 0.6013156026601791,\n",
       " 0.5261511523276567,\n",
       " 0.46038225828669965,\n",
       " 0.4028344760008622,\n",
       " 0.3524801665007544,\n",
       " 0.3084201456881601,\n",
       " 0.2698676274771401,\n",
       " 0.2361341740424976,\n",
       " 0.2066174022871854,\n",
       " 0.18079022700128722,\n",
       " 0.15819144862612633,\n",
       " 0.13841751754786052,\n",
       " 0.12111532785437797,\n",
       " 0.10597591187258072,\n",
       " 0.09272892288850812,\n",
       " 0.08113780752744461,\n",
       " 0.07099558158651403,\n",
       " 0.06212113388819978,\n",
       " 0.054355992152174806,\n",
       " 0.04756149313315296,\n",
       " 0.04161630649150884,\n",
       " 0.03641426818007023,\n",
       " 0.03186248465756145,\n",
       " 0.027879674075366272,\n",
       " 0.024394714815945486,\n",
       " 0.0213453754639523,\n",
       " 0.018677203530958263,\n",
       " 0.01634255308958848,\n",
       " 0.014299733953389921,\n",
       " 0.012512267209216181,\n",
       " 0.010948233808064159,\n",
       " 0.009579704582056139,\n",
       " 0.00838224150929912,\n",
       " 0.007334461320636731,\n",
       " 0.0064176536555571395,\n",
       " 0.005615446948612497,\n",
       " 0.004913516080035935,\n",
       " 0.004299326570031443,\n",
       " 0.003761910748777513,\n",
       " 0.003291671905180324,\n",
       " 0.002880212917032783,\n",
       " 0.002520186302403685,\n",
       " 0.0022051630146032244,\n",
       " 0.0019295176377778216,\n",
       " 0.0016883279330555938,\n",
       " 0.0014772869414236445,\n",
       " 0.001292626073745689,\n",
       " 0.0011310478145274778,\n",
       " 0.000989666837711543,\n",
       " 0.0008659584829976003,\n",
       " 0.0007577136726229002,\n",
       " 0.0006629994635450377,\n",
       " 0.000580124530601908,\n",
       " 0.0005076089642766695,\n",
       " 0.0004441578437420858,\n",
       " 0.0003886381132743251,\n",
       " 0.0003400583491150344,\n",
       " 0.00029755105547565517,\n",
       " 0.00026035717354119824,\n",
       " 0.00022781252684854846,\n",
       " 0.0001993359609924799,\n",
       " 0.0001744189658684199,\n",
       " 0.00015261659513486744,\n",
       " 0.000133539520743009,\n",
       " 0.00011684708065013288,\n",
       " 0.00010224119556886626,\n",
       " 8.946104612275799e-05,\n",
       " 7.827841535741323e-05,\n",
       " 6.849361343773658e-05,\n",
       " 5.9931911758019506e-05,\n",
       " 5.244042278826707e-05,\n",
       " 4.5885369939733684e-05,\n",
       " 4.014969869726697e-05,\n",
       " 3.5130986360108605e-05,\n",
       " 3.0739613065095026e-05,\n",
       " 2.689716143195815e-05,\n",
       " 2.3535016252963382e-05,\n",
       " 2.0593139221342958e-05,\n",
       " 1.8018996818675088e-05,\n",
       " 1.57666222163407e-05,\n",
       " 1.3795794439298115e-05,\n",
       " 1.207132013438585e-05,\n",
       " 1.0562405117587619e-05,\n",
       " 9.242104477889167e-06,\n",
       " 8.086841418153021e-06,\n",
       " 7.075986240883893e-06,\n",
       " 6.191487960773407e-06,\n",
       " 5.417551965676731e-06,\n",
       " 4.7403579699671395e-06,\n",
       " 4.1478132237212466e-06,\n",
       " 3.6293365707560913e-06]"
      ]
     },
     "execution_count": 17,
     "metadata": {},
     "output_type": "execute_result"
    }
   ],
   "source": [
    "[2 * (1 - 1/(2**3))**x for x in range(100)]"
   ]
  }
 ],
 "metadata": {
  "kernelspec": {
   "display_name": ".venv",
   "language": "python",
   "name": "python3"
  },
  "language_info": {
   "codemirror_mode": {
    "name": "ipython",
    "version": 3
   },
   "file_extension": ".py",
   "mimetype": "text/x-python",
   "name": "python",
   "nbconvert_exporter": "python",
   "pygments_lexer": "ipython3",
   "version": "3.9.6"
  },
  "orig_nbformat": 4
 },
 "nbformat": 4,
 "nbformat_minor": 2
}
